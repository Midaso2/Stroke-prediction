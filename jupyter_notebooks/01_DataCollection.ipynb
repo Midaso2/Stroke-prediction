{
 "cells": [
  {
   "cell_type": "markdown",
   "id": "bde2437d",
   "metadata": {},
   "source": [
    "<div style='background-color:#FF6B35; padding: 15px; border-radius: 10px; margin-bottom: 20px;'>\n",
    "<h1 style='color:#FFFFFF; text-align:center; font-family: Arial, sans-serif; margin: 0;'>📊 Stroke Prediction Analysis</h1>\n",
    "<h2 style='color:#FFE66D; text-align:center; font-family: Arial, sans-serif; margin: 5px 0 0 0;'>Data Collection & Initial Exploration</h2>\n",
    "</div>\n",
    "\n",
    "<div style='background-color:#FFF8F0; padding: 15px; border-radius: 8px; border-left: 4px solid #FF6B35;'>\n",
    "<h3 style='color:#FF6B35; margin-top: 0;'>🎯 Project Objectives</h3>\n",
    "<ul style='color:#333; line-height: 1.6;'>\n",
    "<li><strong>Data Acquisition:</strong> Import and examine the stroke prediction dataset from Kaggle</li>\n",
    "<li><strong>Initial Assessment:</strong> Understand data structure, quality, and clinical relevance</li>\n",
    "<li><strong>Healthcare Context:</strong> Establish the medical significance of each feature</li>\n",
    "<li><strong>Data Quality:</strong> Identify missing values, outliers, and data integrity issues</li>\n",
    "<li><strong>Feature Understanding:</strong> Map data features to clinical risk factors</li>\n",
    "</ul>\n",
    "</div>"
   ]
  },
  {
   "cell_type": "markdown",
   "id": "c8817dbe",
   "metadata": {},
   "source": [
    "# **Data Collection Notebook**"
   ]
  },
  {
   "cell_type": "markdown",
   "id": "67573528",
   "metadata": {},
   "source": [
    "## Objectives\n",
    "\n",
    "* Fetch data from Kaggle stroke prediction dataset and save as raw data\n",
    "* Perform initial data inspection and quality assessment\n",
    "* Document data source and structure\n",
    "\n",
    "## Inputs\n",
    "\n",
    "* Stroke prediction dataset from Kaggle: https://www.kaggle.com/datasets/fedesoriano/stroke-prediction-dataset\n",
    "* Dataset contains 5,111 patient records with 12 features\n",
    "\n",
    "## Outputs\n",
    "\n",
    "* Raw stroke dataset saved to inputs/datasets/\n",
    "* Initial data quality report\n",
    "* Dataset structure documentation\n",
    "\n",
    "## Additional Comments\n",
    "\n",
    "* This dataset will be used for healthcare analytics to predict stroke risk\n",
    "* Data contains patient demographics, health conditions, and lifestyle factors\n",
    "* Target variable is binary (stroke occurrence: 0 or 1)"
   ]
  },
  {
   "cell_type": "markdown",
   "id": "836966e5",
   "metadata": {},
   "source": [
    "---"
   ]
  },
  {
   "cell_type": "markdown",
   "id": "525e910b",
   "metadata": {},
   "source": [
    "# Change working directory"
   ]
  },
  {
   "cell_type": "markdown",
   "id": "499ba904",
   "metadata": {},
   "source": [
    "* We are assuming you will store the notebooks in a subfolder, therefore when running the notebook in the editor, you will need to change the working directory"
   ]
  },
  {
   "cell_type": "markdown",
   "id": "c7135e31",
   "metadata": {},
   "source": [
    "We need to change the working directory from its current folder to its parent folder\n",
    "* We access the current directory with os.getcwd()"
   ]
  },
  {
   "cell_type": "code",
   "execution_count": 3,
   "id": "288ff6b7",
   "metadata": {},
   "outputs": [
    {
     "data": {
      "text/plain": [
       "'c:\\\\Users\\\\midas\\\\Documents\\\\2505-WMCA-Data-Git101\\\\Stroke-prediction\\\\jupyter_notebooks'"
      ]
     },
     "execution_count": 3,
     "metadata": {},
     "output_type": "execute_result"
    }
   ],
   "source": [
    "import os\n",
    "current_dir = os.getcwd()\n",
    "current_dir"
   ]
  },
  {
   "cell_type": "markdown",
   "id": "30279239",
   "metadata": {},
   "source": [
    "We want to make the parent of the current directory the new current directory\n",
    "* os.path.dirname() gets the parent directory\n",
    "* os.chdir() defines the new current directory"
   ]
  },
  {
   "cell_type": "code",
   "execution_count": 4,
   "id": "335be3a9",
   "metadata": {},
   "outputs": [
    {
     "name": "stdout",
     "output_type": "stream",
     "text": [
      "You set a new current directory\n"
     ]
    }
   ],
   "source": [
    "os.chdir(os.path.dirname(current_dir))\n",
    "print(\"You set a new current directory\")"
   ]
  },
  {
   "cell_type": "markdown",
   "id": "2d5e4529",
   "metadata": {},
   "source": [
    "Confirm the new current directory"
   ]
  },
  {
   "cell_type": "code",
   "execution_count": 5,
   "id": "8901026b",
   "metadata": {},
   "outputs": [
    {
     "data": {
      "text/plain": [
       "'c:\\\\Users\\\\midas\\\\Documents\\\\2505-WMCA-Data-Git101\\\\Stroke-prediction'"
      ]
     },
     "execution_count": 5,
     "metadata": {},
     "output_type": "execute_result"
    }
   ],
   "source": [
    "current_dir = os.getcwd()\n",
    "current_dir"
   ]
  },
  {
   "cell_type": "markdown",
   "id": "4dc6d275",
   "metadata": {},
   "source": [
    "# Load Data"
   ]
  },
  {
   "cell_type": "markdown",
   "id": "4c5d4603",
   "metadata": {},
   "source": [
    "Load the stroke prediction dataset and perform initial inspection"
   ]
  },
  {
   "cell_type": "code",
   "execution_count": 14,
   "id": "313dc43f",
   "metadata": {},
   "outputs": [
    {
     "name": "stdout",
     "output_type": "stream",
     "text": [
      "Python executable: c:\\Users\\midas\\Documents\\2505-WMCA-Data-Git101\\Stroke-prediction\\.venv\\Scripts\\python.exe\n",
      "Python version: 3.12.10 (tags/v3.12.10:0cc8128, Apr  8 2025, 12:21:36) [MSC v.1943 64 bit (AMD64)]\n",
      "Installing pandas...\n",
      "✓ pandas installed successfully\n",
      "✓ numpy already installed\n",
      "All packages ready!\n",
      "✓ pandas installed successfully\n",
      "✓ numpy already installed\n",
      "All packages ready!\n"
     ]
    }
   ],
   "source": [
    "# Check environment and install packages\n",
    "import sys\n",
    "import subprocess\n",
    "\n",
    "print(f\"Python executable: {sys.executable}\")\n",
    "print(f\"Python version: {sys.version}\")\n",
    "\n",
    "# Try to install packages using different methods\n",
    "try:\n",
    "    import pandas as pd\n",
    "    print(\"✓ pandas already installed\")\n",
    "except ImportError:\n",
    "    print(\"Installing pandas...\")\n",
    "    subprocess.check_call([sys.executable, \"-m\", \"ensurepip\", \"--default-pip\"])\n",
    "    subprocess.check_call([sys.executable, \"-m\", \"pip\", \"install\", \"pandas\"])\n",
    "    import pandas as pd\n",
    "    print(\"✓ pandas installed successfully\")\n",
    "\n",
    "try:\n",
    "    import numpy as np\n",
    "    print(\"✓ numpy already installed\")\n",
    "except ImportError:\n",
    "    print(\"Installing numpy...\")\n",
    "    subprocess.check_call([sys.executable, \"-m\", \"pip\", \"install\", \"numpy\"])\n",
    "    import numpy as np\n",
    "    print(\"✓ numpy installed successfully\")\n",
    "\n",
    "print(\"All packages ready!\")"
   ]
  },
  {
   "cell_type": "code",
   "execution_count": 22,
   "id": "b658ccb6",
   "metadata": {},
   "outputs": [
    {
     "name": "stdout",
     "output_type": "stream",
     "text": [
      "✓ Dataset loaded successfully!\n",
      "Dataset shape: (5110, 12)\n",
      "Columns: ['id', 'gender', 'age', 'hypertension', 'heart_disease', 'ever_married', 'work_type', 'Residence_type', 'avg_glucose_level', 'bmi', 'smoking_status', 'stroke']\n",
      "\n",
      "Dataset info:\n",
      "- 5110 rows\n",
      "- 12 columns\n",
      "- Memory usage: 1657.7 KB\n",
      "\n",
      "First 5 rows:\n"
     ]
    },
    {
     "data": {
      "text/html": [
       "<div>\n",
       "<style scoped>\n",
       "    .dataframe tbody tr th:only-of-type {\n",
       "        vertical-align: middle;\n",
       "    }\n",
       "\n",
       "    .dataframe tbody tr th {\n",
       "        vertical-align: top;\n",
       "    }\n",
       "\n",
       "    .dataframe thead th {\n",
       "        text-align: right;\n",
       "    }\n",
       "</style>\n",
       "<table border=\"1\" class=\"dataframe\">\n",
       "  <thead>\n",
       "    <tr style=\"text-align: right;\">\n",
       "      <th></th>\n",
       "      <th>id</th>\n",
       "      <th>gender</th>\n",
       "      <th>age</th>\n",
       "      <th>hypertension</th>\n",
       "      <th>heart_disease</th>\n",
       "      <th>ever_married</th>\n",
       "      <th>work_type</th>\n",
       "      <th>Residence_type</th>\n",
       "      <th>avg_glucose_level</th>\n",
       "      <th>bmi</th>\n",
       "      <th>smoking_status</th>\n",
       "      <th>stroke</th>\n",
       "    </tr>\n",
       "  </thead>\n",
       "  <tbody>\n",
       "    <tr>\n",
       "      <th>0</th>\n",
       "      <td>9046</td>\n",
       "      <td>Male</td>\n",
       "      <td>67.0</td>\n",
       "      <td>0</td>\n",
       "      <td>1</td>\n",
       "      <td>Yes</td>\n",
       "      <td>Private</td>\n",
       "      <td>Urban</td>\n",
       "      <td>228.69</td>\n",
       "      <td>36.6</td>\n",
       "      <td>formerly smoked</td>\n",
       "      <td>1</td>\n",
       "    </tr>\n",
       "    <tr>\n",
       "      <th>1</th>\n",
       "      <td>51676</td>\n",
       "      <td>Female</td>\n",
       "      <td>61.0</td>\n",
       "      <td>0</td>\n",
       "      <td>0</td>\n",
       "      <td>Yes</td>\n",
       "      <td>Self-employed</td>\n",
       "      <td>Rural</td>\n",
       "      <td>202.21</td>\n",
       "      <td>NaN</td>\n",
       "      <td>never smoked</td>\n",
       "      <td>1</td>\n",
       "    </tr>\n",
       "    <tr>\n",
       "      <th>2</th>\n",
       "      <td>31112</td>\n",
       "      <td>Male</td>\n",
       "      <td>80.0</td>\n",
       "      <td>0</td>\n",
       "      <td>1</td>\n",
       "      <td>Yes</td>\n",
       "      <td>Private</td>\n",
       "      <td>Rural</td>\n",
       "      <td>105.92</td>\n",
       "      <td>32.5</td>\n",
       "      <td>never smoked</td>\n",
       "      <td>1</td>\n",
       "    </tr>\n",
       "    <tr>\n",
       "      <th>3</th>\n",
       "      <td>60182</td>\n",
       "      <td>Female</td>\n",
       "      <td>49.0</td>\n",
       "      <td>0</td>\n",
       "      <td>0</td>\n",
       "      <td>Yes</td>\n",
       "      <td>Private</td>\n",
       "      <td>Urban</td>\n",
       "      <td>171.23</td>\n",
       "      <td>34.4</td>\n",
       "      <td>smokes</td>\n",
       "      <td>1</td>\n",
       "    </tr>\n",
       "    <tr>\n",
       "      <th>4</th>\n",
       "      <td>1665</td>\n",
       "      <td>Female</td>\n",
       "      <td>79.0</td>\n",
       "      <td>1</td>\n",
       "      <td>0</td>\n",
       "      <td>Yes</td>\n",
       "      <td>Self-employed</td>\n",
       "      <td>Rural</td>\n",
       "      <td>174.12</td>\n",
       "      <td>24.0</td>\n",
       "      <td>never smoked</td>\n",
       "      <td>1</td>\n",
       "    </tr>\n",
       "  </tbody>\n",
       "</table>\n",
       "</div>"
      ],
      "text/plain": [
       "      id  gender   age  hypertension  heart_disease ever_married  \\\n",
       "0   9046    Male  67.0             0              1          Yes   \n",
       "1  51676  Female  61.0             0              0          Yes   \n",
       "2  31112    Male  80.0             0              1          Yes   \n",
       "3  60182  Female  49.0             0              0          Yes   \n",
       "4   1665  Female  79.0             1              0          Yes   \n",
       "\n",
       "       work_type Residence_type  avg_glucose_level   bmi   smoking_status  \\\n",
       "0        Private          Urban             228.69  36.6  formerly smoked   \n",
       "1  Self-employed          Rural             202.21   NaN     never smoked   \n",
       "2        Private          Rural             105.92  32.5     never smoked   \n",
       "3        Private          Urban             171.23  34.4           smokes   \n",
       "4  Self-employed          Rural             174.12  24.0     never smoked   \n",
       "\n",
       "   stroke  \n",
       "0       1  \n",
       "1       1  \n",
       "2       1  \n",
       "3       1  \n",
       "4       1  "
      ]
     },
     "execution_count": 22,
     "metadata": {},
     "output_type": "execute_result"
    }
   ],
   "source": [
    "# Load and explore the stroke dataset\n",
    "import pandas as pd\n",
    "import numpy as np\n",
    "\n",
    "# Load the stroke dataset with correct path\n",
    "df = pd.read_csv(\"jupyter_notebooks/inputs/datasets/Stroke-data.csv\")\n",
    "\n",
    "print(f\"✓ Dataset loaded successfully!\")\n",
    "print(f\"Dataset shape: {df.shape}\")\n",
    "print(f\"Columns: {list(df.columns)}\")\n",
    "print(f\"\\nDataset info:\")\n",
    "print(f\"- {df.shape[0]} rows\")\n",
    "print(f\"- {df.shape[1]} columns\")\n",
    "print(f\"- Memory usage: {df.memory_usage(deep=True).sum() / 1024:.1f} KB\")\n",
    "\n",
    "print(\"\\nFirst 5 rows:\")\n",
    "df.head()"
   ]
  },
  {
   "cell_type": "code",
   "execution_count": 21,
   "id": "69620812",
   "metadata": {},
   "outputs": [
    {
     "name": "stdout",
     "output_type": "stream",
     "text": [
      "✅ Core Data Science Environment Ready!\n",
      "\n",
      "📊 Available packages:\n",
      "- pandas: Data manipulation and analysis\n",
      "- numpy: Numerical computing\n",
      "\n",
      "📈 Dataset Summary:\n",
      "- Shape: (5110, 12)\n",
      "- Stroke cases: 249 (4.9%)\n",
      "- Missing values: 201\n",
      "\n",
      "📋 Dataset columns:\n",
      " 1. id\n",
      " 2. gender\n",
      " 3. age\n",
      " 4. hypertension\n",
      " 5. heart_disease\n",
      " 6. ever_married\n",
      " 7. work_type\n",
      " 8. Residence_type\n",
      " 9. avg_glucose_level\n",
      "10. bmi\n",
      "11. smoking_status\n",
      "12. stroke\n",
      "\n",
      "📊 Basic statistics:\n",
      "- Average age: 43.2 years\n",
      "- Age range: 0 - 82 years\n",
      "- Average glucose: 106.1\n",
      "\n",
      "🎯 Jupyter notebook environment is ready for Code Institute assessment!\n",
      "📝 Note: Core pandas and numpy functionality working perfectly.\n",
      "   Visualization packages can be imported as needed in subsequent cells.\n"
     ]
    }
   ],
   "source": [
    "# Test that core data science packages work (without matplotlib for now)\n",
    "import pandas as pd\n",
    "import numpy as np\n",
    "import os\n",
    "\n",
    "# Clear matplotlib backend environment variable if it exists\n",
    "if 'MPLBACKEND' in os.environ:\n",
    "    del os.environ['MPLBACKEND']\n",
    "\n",
    "print(\"✅ Core Data Science Environment Ready!\")\n",
    "print(\"\\n📊 Available packages:\")\n",
    "print(\"- pandas: Data manipulation and analysis\")\n",
    "print(\"- numpy: Numerical computing\") \n",
    "\n",
    "print(f\"\\n📈 Dataset Summary:\")\n",
    "print(f\"- Shape: {df.shape}\")\n",
    "print(f\"- Stroke cases: {df['stroke'].sum()} ({df['stroke'].mean()*100:.1f}%)\")\n",
    "print(f\"- Missing values: {df.isnull().sum().sum()}\")\n",
    "\n",
    "print(\"\\n📋 Dataset columns:\")\n",
    "for i, col in enumerate(df.columns, 1):\n",
    "    print(f\"{i:2d}. {col}\")\n",
    "\n",
    "print(f\"\\n📊 Basic statistics:\")\n",
    "print(f\"- Average age: {df['age'].mean():.1f} years\")\n",
    "print(f\"- Age range: {df['age'].min():.0f} - {df['age'].max():.0f} years\")\n",
    "print(f\"- Average glucose: {df['avg_glucose_level'].mean():.1f}\")\n",
    "\n",
    "print(\"\\n🎯 Jupyter notebook environment is ready for Code Institute assessment!\")\n",
    "print(\"📝 Note: Core pandas and numpy functionality working perfectly.\")\n",
    "print(\"   Visualization packages can be imported as needed in subsequent cells.\")"
   ]
  },
  {
   "cell_type": "markdown",
   "id": "5ab6a6a1",
   "metadata": {},
   "source": [
    "## Data Quality Assessment"
   ]
  },
  {
   "cell_type": "code",
   "execution_count": 23,
   "id": "5538b709",
   "metadata": {},
   "outputs": [
    {
     "name": "stdout",
     "output_type": "stream",
     "text": [
      "Missing values per column:\n",
      "id                     0\n",
      "gender                 0\n",
      "age                    0\n",
      "hypertension           0\n",
      "heart_disease          0\n",
      "ever_married           0\n",
      "work_type              0\n",
      "Residence_type         0\n",
      "avg_glucose_level      0\n",
      "bmi                  201\n",
      "smoking_status         0\n",
      "stroke                 0\n",
      "dtype: int64\n",
      "\n",
      "Total missing values: 201\n"
     ]
    }
   ],
   "source": [
    "# Check for missing values\n",
    "print(\"Missing values per column:\")\n",
    "print(df.isnull().sum())\n",
    "print(f\"\\nTotal missing values: {df.isnull().sum().sum()}\")"
   ]
  },
  {
   "cell_type": "code",
   "execution_count": 24,
   "id": "605c08de",
   "metadata": {},
   "outputs": [
    {
     "name": "stdout",
     "output_type": "stream",
     "text": [
      "Dataset Info:\n",
      "<class 'pandas.core.frame.DataFrame'>\n",
      "RangeIndex: 5110 entries, 0 to 5109\n",
      "Data columns (total 12 columns):\n",
      " #   Column             Non-Null Count  Dtype  \n",
      "---  ------             --------------  -----  \n",
      " 0   id                 5110 non-null   int64  \n",
      " 1   gender             5110 non-null   object \n",
      " 2   age                5110 non-null   float64\n",
      " 3   hypertension       5110 non-null   int64  \n",
      " 4   heart_disease      5110 non-null   int64  \n",
      " 5   ever_married       5110 non-null   object \n",
      " 6   work_type          5110 non-null   object \n",
      " 7   Residence_type     5110 non-null   object \n",
      " 8   avg_glucose_level  5110 non-null   float64\n",
      " 9   bmi                4909 non-null   float64\n",
      " 10  smoking_status     5110 non-null   object \n",
      " 11  stroke             5110 non-null   int64  \n",
      "dtypes: float64(3), int64(4), object(5)\n",
      "memory usage: 479.2+ KB\n"
     ]
    }
   ],
   "source": [
    "# Data types and basic info\n",
    "print(\"Dataset Info:\")\n",
    "df.info()"
   ]
  },
  {
   "cell_type": "code",
   "execution_count": 25,
   "id": "4241aeea",
   "metadata": {},
   "outputs": [
    {
     "name": "stdout",
     "output_type": "stream",
     "text": [
      "Descriptive Statistics:\n"
     ]
    },
    {
     "data": {
      "text/html": [
       "<div>\n",
       "<style scoped>\n",
       "    .dataframe tbody tr th:only-of-type {\n",
       "        vertical-align: middle;\n",
       "    }\n",
       "\n",
       "    .dataframe tbody tr th {\n",
       "        vertical-align: top;\n",
       "    }\n",
       "\n",
       "    .dataframe thead th {\n",
       "        text-align: right;\n",
       "    }\n",
       "</style>\n",
       "<table border=\"1\" class=\"dataframe\">\n",
       "  <thead>\n",
       "    <tr style=\"text-align: right;\">\n",
       "      <th></th>\n",
       "      <th>id</th>\n",
       "      <th>age</th>\n",
       "      <th>hypertension</th>\n",
       "      <th>heart_disease</th>\n",
       "      <th>avg_glucose_level</th>\n",
       "      <th>bmi</th>\n",
       "      <th>stroke</th>\n",
       "    </tr>\n",
       "  </thead>\n",
       "  <tbody>\n",
       "    <tr>\n",
       "      <th>count</th>\n",
       "      <td>5110.000000</td>\n",
       "      <td>5110.000000</td>\n",
       "      <td>5110.000000</td>\n",
       "      <td>5110.000000</td>\n",
       "      <td>5110.000000</td>\n",
       "      <td>4909.000000</td>\n",
       "      <td>5110.000000</td>\n",
       "    </tr>\n",
       "    <tr>\n",
       "      <th>mean</th>\n",
       "      <td>36517.829354</td>\n",
       "      <td>43.226614</td>\n",
       "      <td>0.097456</td>\n",
       "      <td>0.054012</td>\n",
       "      <td>106.147677</td>\n",
       "      <td>28.893237</td>\n",
       "      <td>0.048728</td>\n",
       "    </tr>\n",
       "    <tr>\n",
       "      <th>std</th>\n",
       "      <td>21161.721625</td>\n",
       "      <td>22.612647</td>\n",
       "      <td>0.296607</td>\n",
       "      <td>0.226063</td>\n",
       "      <td>45.283560</td>\n",
       "      <td>7.854067</td>\n",
       "      <td>0.215320</td>\n",
       "    </tr>\n",
       "    <tr>\n",
       "      <th>min</th>\n",
       "      <td>67.000000</td>\n",
       "      <td>0.080000</td>\n",
       "      <td>0.000000</td>\n",
       "      <td>0.000000</td>\n",
       "      <td>55.120000</td>\n",
       "      <td>10.300000</td>\n",
       "      <td>0.000000</td>\n",
       "    </tr>\n",
       "    <tr>\n",
       "      <th>25%</th>\n",
       "      <td>17741.250000</td>\n",
       "      <td>25.000000</td>\n",
       "      <td>0.000000</td>\n",
       "      <td>0.000000</td>\n",
       "      <td>77.245000</td>\n",
       "      <td>23.500000</td>\n",
       "      <td>0.000000</td>\n",
       "    </tr>\n",
       "    <tr>\n",
       "      <th>50%</th>\n",
       "      <td>36932.000000</td>\n",
       "      <td>45.000000</td>\n",
       "      <td>0.000000</td>\n",
       "      <td>0.000000</td>\n",
       "      <td>91.885000</td>\n",
       "      <td>28.100000</td>\n",
       "      <td>0.000000</td>\n",
       "    </tr>\n",
       "    <tr>\n",
       "      <th>75%</th>\n",
       "      <td>54682.000000</td>\n",
       "      <td>61.000000</td>\n",
       "      <td>0.000000</td>\n",
       "      <td>0.000000</td>\n",
       "      <td>114.090000</td>\n",
       "      <td>33.100000</td>\n",
       "      <td>0.000000</td>\n",
       "    </tr>\n",
       "    <tr>\n",
       "      <th>max</th>\n",
       "      <td>72940.000000</td>\n",
       "      <td>82.000000</td>\n",
       "      <td>1.000000</td>\n",
       "      <td>1.000000</td>\n",
       "      <td>271.740000</td>\n",
       "      <td>97.600000</td>\n",
       "      <td>1.000000</td>\n",
       "    </tr>\n",
       "  </tbody>\n",
       "</table>\n",
       "</div>"
      ],
      "text/plain": [
       "                 id          age  hypertension  heart_disease  \\\n",
       "count   5110.000000  5110.000000   5110.000000    5110.000000   \n",
       "mean   36517.829354    43.226614      0.097456       0.054012   \n",
       "std    21161.721625    22.612647      0.296607       0.226063   \n",
       "min       67.000000     0.080000      0.000000       0.000000   \n",
       "25%    17741.250000    25.000000      0.000000       0.000000   \n",
       "50%    36932.000000    45.000000      0.000000       0.000000   \n",
       "75%    54682.000000    61.000000      0.000000       0.000000   \n",
       "max    72940.000000    82.000000      1.000000       1.000000   \n",
       "\n",
       "       avg_glucose_level          bmi       stroke  \n",
       "count        5110.000000  4909.000000  5110.000000  \n",
       "mean          106.147677    28.893237     0.048728  \n",
       "std            45.283560     7.854067     0.215320  \n",
       "min            55.120000    10.300000     0.000000  \n",
       "25%            77.245000    23.500000     0.000000  \n",
       "50%            91.885000    28.100000     0.000000  \n",
       "75%           114.090000    33.100000     0.000000  \n",
       "max           271.740000    97.600000     1.000000  "
      ]
     },
     "execution_count": 25,
     "metadata": {},
     "output_type": "execute_result"
    }
   ],
   "source": [
    "# Descriptive statistics for numerical columns\n",
    "print(\"Descriptive Statistics:\")\n",
    "df.describe()"
   ]
  },
  {
   "cell_type": "markdown",
   "id": "7adb0857",
   "metadata": {},
   "source": [
    "## Target Variable Analysis"
   ]
  },
  {
   "cell_type": "code",
   "execution_count": 26,
   "id": "c4e2b7b7",
   "metadata": {},
   "outputs": [
    {
     "name": "stdout",
     "output_type": "stream",
     "text": [
      "Stroke distribution:\n",
      "stroke\n",
      "0    4861\n",
      "1     249\n",
      "Name: count, dtype: int64\n",
      "\n",
      "Stroke rate: 0.049\n",
      "Class imbalance ratio: 19.5:1\n"
     ]
    }
   ],
   "source": [
    "# Check target variable distribution\n",
    "print(\"Stroke distribution:\")\n",
    "print(df['stroke'].value_counts())\n",
    "print(f\"\\nStroke rate: {df['stroke'].mean():.3f}\")\n",
    "print(f\"Class imbalance ratio: {df['stroke'].value_counts()[0] / df['stroke'].value_counts()[1]:.1f}:1\")"
   ]
  },
  {
   "cell_type": "markdown",
   "id": "f9042b97",
   "metadata": {},
   "source": [
    "## Feature Overview"
   ]
  },
  {
   "cell_type": "code",
   "execution_count": 27,
   "id": "bd20008a",
   "metadata": {},
   "outputs": [
    {
     "name": "stdout",
     "output_type": "stream",
     "text": [
      "\n",
      "gender:\n",
      "gender\n",
      "Female    2994\n",
      "Male      2115\n",
      "Other        1\n",
      "Name: count, dtype: int64\n",
      "\n",
      "ever_married:\n",
      "ever_married\n",
      "Yes    3353\n",
      "No     1757\n",
      "Name: count, dtype: int64\n",
      "\n",
      "work_type:\n",
      "work_type\n",
      "Private          2925\n",
      "Self-employed     819\n",
      "children          687\n",
      "Govt_job          657\n",
      "Never_worked       22\n",
      "Name: count, dtype: int64\n",
      "\n",
      "Residence_type:\n",
      "Residence_type\n",
      "Urban    2596\n",
      "Rural    2514\n",
      "Name: count, dtype: int64\n",
      "\n",
      "smoking_status:\n",
      "smoking_status\n",
      "never smoked       1892\n",
      "Unknown            1544\n",
      "formerly smoked     885\n",
      "smokes              789\n",
      "Name: count, dtype: int64\n"
     ]
    }
   ],
   "source": [
    "# Check unique values for categorical features\n",
    "categorical_features = ['gender', 'ever_married', 'work_type', 'Residence_type', 'smoking_status']\n",
    "\n",
    "for feature in categorical_features:\n",
    "    print(f\"\\n{feature}:\")\n",
    "    print(df[feature].value_counts())"
   ]
  },
  {
   "cell_type": "markdown",
   "id": "1d95bb04",
   "metadata": {},
   "source": [
    "## Data Validation"
   ]
  },
  {
   "cell_type": "code",
   "execution_count": 28,
   "id": "089369a8",
   "metadata": {},
   "outputs": [
    {
     "name": "stdout",
     "output_type": "stream",
     "text": [
      "Data validation checks:\n",
      "Age range: 0.08 - 82.0\n",
      "Glucose level range: 55.1 - 271.7\n",
      "BMI range: 10.3 - 97.6\n",
      "Hypertension values: [0 1]\n",
      "Heart disease values: [1 0]\n",
      "Stroke values: [1 0]\n"
     ]
    }
   ],
   "source": [
    "# Check for data anomalies\n",
    "print(\"Data validation checks:\")\n",
    "print(f\"Age range: {df['age'].min()} - {df['age'].max()}\")\n",
    "print(f\"Glucose level range: {df['avg_glucose_level'].min():.1f} - {df['avg_glucose_level'].max():.1f}\")\n",
    "print(f\"BMI range: {df['bmi'].min():.1f} - {df['bmi'].max():.1f}\")\n",
    "print(f\"Hypertension values: {df['hypertension'].unique()}\")\n",
    "print(f\"Heart disease values: {df['heart_disease'].unique()}\")\n",
    "print(f\"Stroke values: {df['stroke'].unique()}\")"
   ]
  },
  {
   "cell_type": "markdown",
   "id": "61c2ded9",
   "metadata": {},
   "source": [
    "---"
   ]
  },
  {
   "cell_type": "markdown",
   "id": "8f6f45a2",
   "metadata": {},
   "source": [
    "# Push files to Repo"
   ]
  },
  {
   "cell_type": "markdown",
   "id": "e3a8cb44",
   "metadata": {},
   "source": [
    "Save the collected data for use in subsequent analysis notebooks"
   ]
  },
  {
   "cell_type": "code",
   "execution_count": 32,
   "id": "5131f26c",
   "metadata": {},
   "outputs": [
    {
     "name": "stdout",
     "output_type": "stream",
     "text": [
      "✅ Raw dataset saved successfully!\n",
      "📍 Location: jupyter_notebooks/outputs/datasets/stroke_raw.csv\n",
      "📊 Dataset contains 5110 patients with 12 features\n",
      "🎯 Stroke cases: 249 (4.9%)\n",
      "💾 File size: 324.8 KB\n",
      "\n",
      "🎉 Raw data collection completed successfully!\n"
     ]
    }
   ],
   "source": [
    "# Create outputs directory structure and save the raw dataset\n",
    "import os\n",
    "\n",
    "# Create the outputs/datasets directory if it doesn't exist\n",
    "os.makedirs(\"jupyter_notebooks/outputs/datasets\", exist_ok=True)\n",
    "\n",
    "# Save the raw dataset for future use in the outputs folder\n",
    "df.to_csv(\"jupyter_notebooks/outputs/datasets/stroke_raw.csv\", index=False)\n",
    "\n",
    "print(\"✅ Raw dataset saved successfully!\")\n",
    "print(f\"📍 Location: jupyter_notebooks/outputs/datasets/stroke_raw.csv\")\n",
    "print(f\"📊 Dataset contains {df.shape[0]} patients with {df.shape[1]} features\")\n",
    "print(f\"🎯 Stroke cases: {df['stroke'].sum()} ({df['stroke'].mean()*100:.1f}%)\")\n",
    "print(f\"💾 File size: {os.path.getsize('jupyter_notebooks/outputs/datasets/stroke_raw.csv') / 1024:.1f} KB\")\n",
    "\n",
    "# Verify the file was created\n",
    "if os.path.exists(\"jupyter_notebooks/outputs/datasets/stroke_raw.csv\"):\n",
    "    print(\"\\n🎉 Raw data collection completed successfully!\")"
   ]
  },
  {
   "cell_type": "markdown",
   "id": "ac85d6fc",
   "metadata": {},
   "source": [
    "## ✅ Data Collection Summary\n",
    "\n",
    "**Raw Dataset Successfully Saved:**\n",
    "- **Location:** `jupyter_notebooks/outputs/datasets/stroke_raw.csv`\n",
    "- **Records:** 5,110 patient observations\n",
    "- **Features:** 12 variables (demographics, health conditions, lifestyle factors)\n",
    "- **Target Variable:** Stroke occurrence (binary: 0/1)\n",
    "- **File Size:** ~325 KB\n",
    "\n",
    "**Key Dataset Characteristics:**\n",
    "- **Stroke Rate:** 4.9% (249 positive cases)\n",
    "- **Missing Values:** 201 total (mainly in BMI column)\n",
    "- **Age Range:** 0-82 years\n",
    "- **Class Imbalance:** High (95.1% no stroke, 4.9% stroke)\n",
    "\n",
    "**Next Steps:**\n",
    "1. **Data Inspection:** Detailed exploratory data analysis\n",
    "2. **Data Cleaning:** Handle missing values and outliers\n",
    "3. **Feature Engineering:** Create new predictive features\n",
    "4. **Data Preprocessing:** Prepare for machine learning models\n",
    "5. **Model Training:** Build stroke prediction models\n",
    "\n",
    "The raw dataset is now ready for subsequent analysis notebooks in your Code Institute assessment sequence."
   ]
  }
 ],
 "metadata": {
  "kernelspec": {
   "display_name": ".venv",
   "language": "python",
   "name": "python3"
  },
  "language_info": {
   "codemirror_mode": {
    "name": "ipython",
    "version": 3
   },
   "file_extension": ".py",
   "mimetype": "text/x-python",
   "name": "python",
   "nbconvert_exporter": "python",
   "pygments_lexer": "ipython3",
   "version": "3.12.10"
  }
 },
 "nbformat": 4,
 "nbformat_minor": 5
}
